{
 "cells": [
  {
   "cell_type": "code",
   "execution_count": 28,
   "metadata": {},
   "outputs": [],
   "source": [
    "import pandas as pd\n",
    "import numpy as np"
   ]
  },
  {
   "cell_type": "markdown",
   "metadata": {},
   "source": [
    "Exercise 1: You've received a dataset containing information about students' \n",
    "performance, but the dataset has missing values across multiple columns due to \n",
    "various reasons. Your task is to analyze and handle these missing values using \n",
    "Pandas' methods."
   ]
  },
  {
   "cell_type": "code",
   "execution_count": 29,
   "metadata": {},
   "outputs": [],
   "source": [
    "import pandas as pd\n",
    "import numpy as np\n",
    "\n",
    "# Define the data dictionary\n",
    "data = {\n",
    "    'Student_ID': [1, 2, 3, 4, 5],\n",
    "    'Name': ['Alice', 'Bob', 'Charlie', 'David', 'Eva'],\n",
    "    'Grade': ['A', 'B', np.nan, 'C', 'B'],\n",
    "    'Absenteeism': [2, np.nan, 5, np.nan, 1],\n",
    "    'Study_Hours': [4, 6, np.nan, 3, 5]\n",
    "}\n",
    "\n",
    "# Convert the dictionary to a DataFrame\n",
    "df = pd.DataFrame(data)\n",
    "\n",
    "# # Fill missing values in 'Grade' with the mode\n",
    "# df['Grade'].fillna(df['Grade'].mode()[0], inplace=True)\n",
    "\n",
    "# # Fill missing values in 'Absenteeism' with the mean\n",
    "# df['Absenteeism'].fillna(df['Absenteeism'].mean(), inplace=True)\n",
    "\n",
    "# # Fill missing values in 'Study_Hours' with the median\n",
    "# df['Study_Hours'].fillna(df['Study_Hours'].median(), inplace=True)"
   ]
  },
  {
   "cell_type": "code",
   "execution_count": 30,
   "metadata": {},
   "outputs": [
    {
     "data": {
      "text/plain": [
       "1"
      ]
     },
     "execution_count": 30,
     "metadata": {},
     "output_type": "execute_result"
    }
   ],
   "source": [
    "# 1. How many missing values are there in the 'Grade' column of the dataset?\n",
    "df['Grade'].isnull().sum()"
   ]
  },
  {
   "cell_type": "code",
   "execution_count": 31,
   "metadata": {},
   "outputs": [
    {
     "data": {
      "text/plain": [
       "4"
      ]
     },
     "execution_count": 31,
     "metadata": {},
     "output_type": "execute_result"
    }
   ],
   "source": [
    "# 2. What is the total count of missing values in the entire dataset?\n",
    "df.isnull().sum().sum()"
   ]
  },
  {
   "cell_type": "code",
   "execution_count": 32,
   "metadata": {},
   "outputs": [
    {
     "data": {
      "text/html": [
       "<div>\n",
       "<style scoped>\n",
       "    .dataframe tbody tr th:only-of-type {\n",
       "        vertical-align: middle;\n",
       "    }\n",
       "\n",
       "    .dataframe tbody tr th {\n",
       "        vertical-align: top;\n",
       "    }\n",
       "\n",
       "    .dataframe thead th {\n",
       "        text-align: right;\n",
       "    }\n",
       "</style>\n",
       "<table border=\"1\" class=\"dataframe\">\n",
       "  <thead>\n",
       "    <tr style=\"text-align: right;\">\n",
       "      <th></th>\n",
       "      <th>Student_ID</th>\n",
       "      <th>Name</th>\n",
       "      <th>Grade</th>\n",
       "      <th>Absenteeism</th>\n",
       "      <th>Study_Hours</th>\n",
       "    </tr>\n",
       "  </thead>\n",
       "  <tbody>\n",
       "    <tr>\n",
       "      <th>1</th>\n",
       "      <td>2</td>\n",
       "      <td>Bob</td>\n",
       "      <td>B</td>\n",
       "      <td>NaN</td>\n",
       "      <td>6.0</td>\n",
       "    </tr>\n",
       "    <tr>\n",
       "      <th>3</th>\n",
       "      <td>4</td>\n",
       "      <td>David</td>\n",
       "      <td>C</td>\n",
       "      <td>NaN</td>\n",
       "      <td>3.0</td>\n",
       "    </tr>\n",
       "  </tbody>\n",
       "</table>\n",
       "</div>"
      ],
      "text/plain": [
       "   Student_ID   Name Grade  Absenteeism  Study_Hours\n",
       "1           2    Bob     B          NaN          6.0\n",
       "3           4  David     C          NaN          3.0"
      ]
     },
     "execution_count": 32,
     "metadata": {},
     "output_type": "execute_result"
    }
   ],
   "source": [
    "# 3. Can you identify and display rows where 'Absenteeism' values are missing?\n",
    "df[df['Absenteeism'].isnull()]"
   ]
  },
  {
   "cell_type": "code",
   "execution_count": 33,
   "metadata": {},
   "outputs": [
    {
     "data": {
      "text/plain": [
       "4"
      ]
     },
     "execution_count": 33,
     "metadata": {},
     "output_type": "execute_result"
    }
   ],
   "source": [
    "# 4. How many rows have complete data (non-missing) in the 'Study Hours' column?\n",
    "df['Study_Hours'].notnull().sum()"
   ]
  },
  {
   "cell_type": "code",
   "execution_count": 34,
   "metadata": {},
   "outputs": [
    {
     "data": {
      "text/plain": [
       "Student_ID     0\n",
       "Name           0\n",
       "Grade          1\n",
       "Absenteeism    2\n",
       "Study_Hours    1\n",
       "dtype: int64"
      ]
     },
     "execution_count": 34,
     "metadata": {},
     "output_type": "execute_result"
    }
   ],
   "source": [
    "# 5. What is the sum of missing values across each column in the dataset?\n",
    "# 6. How many missing values are there in each column of the dataset?\n",
    "df.isnull().sum()"
   ]
  },
  {
   "cell_type": "markdown",
   "metadata": {},
   "source": [
    "Exercise 2: You are analyzing a dataset containing information about employees in \n",
    "a company. However, the dataset is not entirely clean and has missing \n",
    "values in various columns due to data entry errors and incomplete \n",
    "records. Your task is to preprocess the data by handling missing values \n",
    "using Pandas' dropna() method."
   ]
  },
  {
   "cell_type": "code",
   "execution_count": 35,
   "metadata": {},
   "outputs": [],
   "source": [
    "df = pd.DataFrame({\n",
    "    'Employee_ID': [1, 2, 3, 4, 5],\n",
    "    'Name': ['Alice', 'Bob', 'Charlie', 'David', 'Eva'],\n",
    "    'Department': ['HR', np.nan, 'IT', 'Sales', 'Finance'],\n",
    "    'Salary': [50000, 60000, np.nan, np.nan, 70000],\n",
    "    'Years_Experience': [3, 5, 2, np.nan, 4],\n",
    "    'Address': [np.nan, '123 Main St', '456 Elm St', np.nan, np.nan],\n",
    "    'Phone': ['123456789', '987654321', np.nan, np.nan, '555555555']\n",
    "})"
   ]
  },
  {
   "cell_type": "code",
   "execution_count": 36,
   "metadata": {},
   "outputs": [],
   "source": [
    "# 1. How would you drop all rows with any missing values from the entire dataset using Pandas?\n",
    "df.dropna(inplace=True)"
   ]
  },
  {
   "cell_type": "code",
   "execution_count": 37,
   "metadata": {},
   "outputs": [],
   "source": [
    "\n",
    "# 2. If the 'Salary' column is critical for analysis, how can you drop only the rows where 'Salary' values are missing while reserving the rest of the dataset?\n",
    "df.dropna(subset=['Salary'], inplace=True)"
   ]
  },
  {
   "cell_type": "code",
   "execution_count": 38,
   "metadata": {},
   "outputs": [],
   "source": [
    "# 3. In some columns, missing values are acceptable up to a certain limit. How would you drop rows with more than two missing values across any column?\n",
    "df.dropna(thresh=2, inplace=True)"
   ]
  },
  {
   "cell_type": "code",
   "execution_count": 39,
   "metadata": {},
   "outputs": [],
   "source": [
    "# 4. For the 'Department' column, there are missing values that can't be imputed. How can you drop rows where 'Department' is missing while keeping rows with other missing values intact?\n",
    "df.dropna(subset=['Department'], inplace=True)"
   ]
  },
  {
   "cell_type": "code",
   "execution_count": 40,
   "metadata": {},
   "outputs": [],
   "source": [
    "# 5. Considering the 'Address' and 'Phone' columns have a significant number of missing values, how can you drop these columns entirely from the dataset?\n",
    "df.drop(['Address', 'Phone'], axis=1, inplace=True)"
   ]
  },
  {
   "cell_type": "code",
   "execution_count": 41,
   "metadata": {},
   "outputs": [],
   "source": [
    "# 6. If you want to drop rows where 'Years of Experience' are missing and 'Salary' is also missing or zero, how would you achieve this?\n",
    "df.drop(df[(df['Years_Experience'].isnull()) & (\n",
    "    df['Salary'].isnull())].index, inplace=True)"
   ]
  },
  {
   "cell_type": "markdown",
   "metadata": {},
   "source": [
    "exercise 1: You are working as a data analyst for an e-commerce company that has a massive dataset containing customer information. The dataset has accumulated duplicate entries due to various reasons like multiple registrations, system errors, or data entry mistakes. Your task is to use the Pandas library in Python to identify and remove these duplicate entries efficiently"
   ]
  },
  {
   "cell_type": "code",
   "execution_count": 42,
   "metadata": {},
   "outputs": [
    {
     "data": {
      "text/html": [
       "<div>\n",
       "<style scoped>\n",
       "    .dataframe tbody tr th:only-of-type {\n",
       "        vertical-align: middle;\n",
       "    }\n",
       "\n",
       "    .dataframe tbody tr th {\n",
       "        vertical-align: top;\n",
       "    }\n",
       "\n",
       "    .dataframe thead th {\n",
       "        text-align: right;\n",
       "    }\n",
       "</style>\n",
       "<table border=\"1\" class=\"dataframe\">\n",
       "  <thead>\n",
       "    <tr style=\"text-align: right;\">\n",
       "      <th></th>\n",
       "      <th>Customer_ID</th>\n",
       "      <th>Name</th>\n",
       "      <th>Email</th>\n",
       "      <th>Phone</th>\n",
       "    </tr>\n",
       "  </thead>\n",
       "  <tbody>\n",
       "    <tr>\n",
       "      <th>0</th>\n",
       "      <td>1</td>\n",
       "      <td>Alice</td>\n",
       "      <td>alice@example.com</td>\n",
       "      <td>123456789</td>\n",
       "    </tr>\n",
       "    <tr>\n",
       "      <th>1</th>\n",
       "      <td>2</td>\n",
       "      <td>Bob</td>\n",
       "      <td>bob@example.com</td>\n",
       "      <td>987654321</td>\n",
       "    </tr>\n",
       "    <tr>\n",
       "      <th>2</th>\n",
       "      <td>3</td>\n",
       "      <td>Charlie</td>\n",
       "      <td>charlie@example.com</td>\n",
       "      <td>111222333</td>\n",
       "    </tr>\n",
       "    <tr>\n",
       "      <th>3</th>\n",
       "      <td>4</td>\n",
       "      <td>David</td>\n",
       "      <td>david@example.com</td>\n",
       "      <td>555666777</td>\n",
       "    </tr>\n",
       "    <tr>\n",
       "      <th>4</th>\n",
       "      <td>2</td>\n",
       "      <td>Bob</td>\n",
       "      <td>bob@example.com</td>\n",
       "      <td>987654321</td>\n",
       "    </tr>\n",
       "    <tr>\n",
       "      <th>5</th>\n",
       "      <td>6</td>\n",
       "      <td>Eva</td>\n",
       "      <td>eva@example.com</td>\n",
       "      <td>444555666</td>\n",
       "    </tr>\n",
       "    <tr>\n",
       "      <th>6</th>\n",
       "      <td>7</td>\n",
       "      <td>Frank</td>\n",
       "      <td>frank@example.com</td>\n",
       "      <td>888999000</td>\n",
       "    </tr>\n",
       "    <tr>\n",
       "      <th>7</th>\n",
       "      <td>8</td>\n",
       "      <td>Grace</td>\n",
       "      <td>grace@example.com</td>\n",
       "      <td>333444555</td>\n",
       "    </tr>\n",
       "    <tr>\n",
       "      <th>8</th>\n",
       "      <td>9</td>\n",
       "      <td>Henry</td>\n",
       "      <td>henry@example.com</td>\n",
       "      <td>111222333</td>\n",
       "    </tr>\n",
       "    <tr>\n",
       "      <th>9</th>\n",
       "      <td>10</td>\n",
       "      <td>Alice</td>\n",
       "      <td>alice@example.com</td>\n",
       "      <td>123456789</td>\n",
       "    </tr>\n",
       "  </tbody>\n",
       "</table>\n",
       "</div>"
      ],
      "text/plain": [
       "   Customer_ID     Name                Email      Phone\n",
       "0            1    Alice    alice@example.com  123456789\n",
       "1            2      Bob      bob@example.com  987654321\n",
       "2            3  Charlie  charlie@example.com  111222333\n",
       "3            4    David    david@example.com  555666777\n",
       "4            2      Bob      bob@example.com  987654321\n",
       "5            6      Eva      eva@example.com  444555666\n",
       "6            7    Frank    frank@example.com  888999000\n",
       "7            8    Grace    grace@example.com  333444555\n",
       "8            9    Henry    henry@example.com  111222333\n",
       "9           10    Alice    alice@example.com  123456789"
      ]
     },
     "execution_count": 42,
     "metadata": {},
     "output_type": "execute_result"
    }
   ],
   "source": [
    "\n",
    "data = {\n",
    "    'Customer_ID': [1, 2, 3, 4, 2, 6, 7, 8, 9, 10],\n",
    "    'Name': ['Alice', 'Bob', 'Charlie', 'David', 'Bob', 'Eva', 'Frank', 'Grace', 'Henry', 'Alice'],\n",
    "    'Email': ['alice@example.com', 'bob@example.com', 'charlie@example.com', 'david@example.com', 'bob@example.com', 'eva@example.com', 'frank@example.com', 'grace@example.com', 'henry@example.com', 'alice@example.com'],\n",
    "    'Phone': ['123456789', '987654321', '111222333', '555666777', '987654321', '444555666', '888999000', '333444555', '111222333', '123456789']\n",
    "}\n",
    "df = pd.DataFrame(data)\n",
    "df"
   ]
  },
  {
   "cell_type": "code",
   "execution_count": 43,
   "metadata": {},
   "outputs": [
    {
     "data": {
      "text/html": [
       "<div>\n",
       "<style scoped>\n",
       "    .dataframe tbody tr th:only-of-type {\n",
       "        vertical-align: middle;\n",
       "    }\n",
       "\n",
       "    .dataframe tbody tr th {\n",
       "        vertical-align: top;\n",
       "    }\n",
       "\n",
       "    .dataframe thead th {\n",
       "        text-align: right;\n",
       "    }\n",
       "</style>\n",
       "<table border=\"1\" class=\"dataframe\">\n",
       "  <thead>\n",
       "    <tr style=\"text-align: right;\">\n",
       "      <th></th>\n",
       "      <th>Customer_ID</th>\n",
       "      <th>Name</th>\n",
       "      <th>Email</th>\n",
       "      <th>Phone</th>\n",
       "    </tr>\n",
       "  </thead>\n",
       "  <tbody>\n",
       "    <tr>\n",
       "      <th>2</th>\n",
       "      <td>3</td>\n",
       "      <td>Charlie</td>\n",
       "      <td>charlie@example.com</td>\n",
       "      <td>111222333</td>\n",
       "    </tr>\n",
       "    <tr>\n",
       "      <th>3</th>\n",
       "      <td>4</td>\n",
       "      <td>David</td>\n",
       "      <td>david@example.com</td>\n",
       "      <td>555666777</td>\n",
       "    </tr>\n",
       "    <tr>\n",
       "      <th>4</th>\n",
       "      <td>2</td>\n",
       "      <td>Bob</td>\n",
       "      <td>bob@example.com</td>\n",
       "      <td>987654321</td>\n",
       "    </tr>\n",
       "    <tr>\n",
       "      <th>5</th>\n",
       "      <td>6</td>\n",
       "      <td>Eva</td>\n",
       "      <td>eva@example.com</td>\n",
       "      <td>444555666</td>\n",
       "    </tr>\n",
       "    <tr>\n",
       "      <th>6</th>\n",
       "      <td>7</td>\n",
       "      <td>Frank</td>\n",
       "      <td>frank@example.com</td>\n",
       "      <td>888999000</td>\n",
       "    </tr>\n",
       "    <tr>\n",
       "      <th>7</th>\n",
       "      <td>8</td>\n",
       "      <td>Grace</td>\n",
       "      <td>grace@example.com</td>\n",
       "      <td>333444555</td>\n",
       "    </tr>\n",
       "    <tr>\n",
       "      <th>8</th>\n",
       "      <td>9</td>\n",
       "      <td>Henry</td>\n",
       "      <td>henry@example.com</td>\n",
       "      <td>111222333</td>\n",
       "    </tr>\n",
       "    <tr>\n",
       "      <th>9</th>\n",
       "      <td>10</td>\n",
       "      <td>Alice</td>\n",
       "      <td>alice@example.com</td>\n",
       "      <td>123456789</td>\n",
       "    </tr>\n",
       "  </tbody>\n",
       "</table>\n",
       "</div>"
      ],
      "text/plain": [
       "   Customer_ID     Name                Email      Phone\n",
       "2            3  Charlie  charlie@example.com  111222333\n",
       "3            4    David    david@example.com  555666777\n",
       "4            2      Bob      bob@example.com  987654321\n",
       "5            6      Eva      eva@example.com  444555666\n",
       "6            7    Frank    frank@example.com  888999000\n",
       "7            8    Grace    grace@example.com  333444555\n",
       "8            9    Henry    henry@example.com  111222333\n",
       "9           10    Alice    alice@example.com  123456789"
      ]
     },
     "execution_count": 43,
     "metadata": {},
     "output_type": "execute_result"
    }
   ],
   "source": [
    "# # Assuming df is your DataFrame and it has been loaded with your dataset\n",
    "# df.drop_duplicates(inplace=True)\n",
    "\n",
    "# assuming last one is the latest one\n",
    "df.drop_duplicates(subset=['Email', 'Phone'], inplace=True, keep='last')\n",
    "df"
   ]
  },
  {
   "cell_type": "markdown",
   "metadata": {},
   "source": [
    "exercise 2: You're analyzing a sales dataset from a retail store chain that \n",
    "contains transactions from multiple branches. Due to system \n",
    "errors and data integration issues, the dataset has accumulated \n",
    "duplicate records of sales transactions. Your task is to use \n",
    "Pandas to identify these duplicates based on specific columns \n",
    "and retain only the unique transactions."
   ]
  },
  {
   "cell_type": "code",
   "execution_count": 55,
   "metadata": {},
   "outputs": [
    {
     "name": "stdout",
     "output_type": "stream",
     "text": [
      "Original:\n",
      "   Transaction_ID Branch_ID  Product_ID  Quantity Total_Price\n",
      "0             101         A         501         2         100\n",
      "1             102         B         502         1          50\n",
      "2             103         C         503         3         120\n",
      "3             102         B         502         1          50\n",
      "4             105         A         505         2          90\n",
      "5             106         C         506         1          30\n",
      "6             107         A         507         4         200\n",
      "7             108         B         508         1          60\n",
      "8             109         C         509         2         110\n",
      "9             110         A         510         3         180\n",
      "\n",
      "Duplicates:\n",
      "   Transaction_ID Branch_ID  Product_ID  Quantity  Total_Price\n",
      "3             102         B         502         1           50\n",
      "\n",
      "Unique:\n",
      "   Transaction_ID Branch_ID  Product_ID  Quantity  Total_Price\n",
      "0             101         A         501         2          100\n",
      "1             102         B         502         1           50\n",
      "2             103         C         503         3          120\n",
      "4             105         A         505         2           90\n",
      "5             106         C         506         1           30\n",
      "6             107         A         507         4          200\n",
      "7             108         B         508         1           60\n",
      "8             109         C         509         2          110\n",
      "9             110         A         510         3          180\n"
     ]
    }
   ],
   "source": [
    "data = {\n",
    "    'Transaction_ID': [101, 102, 103, 102, 105, 106, 107, 108, 109, 110],\n",
    "    'Branch_ID': ['A', 'B', 'C', 'B', 'A', 'C', 'A', 'B', 'C', 'A'],\n",
    "    'Product_ID': [501, 502, 503, 502, 505, 506, 507, 508, 509, 510],\n",
    "    'Quantity': [2, 1, 3, 1, 2, 1, 4, 1, 2, 3],\n",
    "    'Total_Price': [100, 50, 120, '50', '90', '30', '200', '60', '110', '180']\n",
    "}\n",
    "\n",
    "df = pd.DataFrame(data)\n",
    "print(\"Original:\")\n",
    "print(df)\n",
    "\n",
    "# You're analyzing a sales dataset from a retail store chain that contains transactions from multiple branches. Due to system errors and data integration issues, the dataset has accumulated duplicate records of sales transactions. Your task is to use Pandas to identify these duplicates based on specific columns and retain only the unique transactions.\n",
    "\n",
    "# Convert 'Total_Price' to numeric type for consistency\n",
    "df['Total_Price'] = pd.to_numeric(df['Total_Price'])\n",
    "\n",
    "# Identify duplicate rows based on 'Transaction_ID', 'Branch_ID' and 'Product_ID'\n",
    "duplicates = df.duplicated(subset=['Transaction_ID', 'Branch_ID', 'Product_ID'])\n",
    "\n",
    "# Print duplicate rows for review\n",
    "print(\"\\nDuplicates:\")\n",
    "print(df[duplicates])\n",
    "\n",
    "# Drop duplicate rows while keeping the first occurrence\n",
    "df = df.drop_duplicates(subset=['Transaction_ID', 'Branch_ID', 'Product_ID'])\n",
    "\n",
    "# Now df contains only the unique transactions\n",
    "print(\"\\nUnique:\")\n",
    "print(df)\n"
   ]
  },
  {
   "cell_type": "code",
   "execution_count": 45,
   "metadata": {},
   "outputs": [
    {
     "name": "stdout",
     "output_type": "stream",
     "text": [
      "   Transaction_ID Branch_ID  Product_ID  Quantity Total_Price\n",
      "0             101         A         501         2         100\n",
      "2             103         C         503         3         120\n",
      "4             105         A         505         2          90\n",
      "5             106         C         506         1          30\n",
      "6             107         A         507         4         200\n",
      "7             108         B         508         1          60\n",
      "8             109         C         509         2         110\n",
      "9             110         A         510         3         180\n"
     ]
    }
   ],
   "source": [
    "duplicates = df.duplicated(subset=['Transaction_ID', 'Branch_ID'], keep=False)\n",
    "unique_transactions = df[~duplicates]\n",
    "print(unique_transactions)"
   ]
  },
  {
   "cell_type": "markdown",
   "metadata": {},
   "source": [
    "exercise : You're working with a dataset that contains information about product sales. \n",
    "However, you've noticed that certain entries have inconsistent or incorrect values \n",
    "in the 'Category' column. You need to standardize these categories by replacing \n",
    "specific values with a unified category name using Pandas' replace() method."
   ]
  },
  {
   "cell_type": "code",
   "execution_count": 46,
   "metadata": {},
   "outputs": [
    {
     "name": "stdout",
     "output_type": "stream",
     "text": [
      "Original DataFrame:\n",
      "   Product_ID Product_Name Category\n",
      "0           1        Apple    Fruit\n",
      "1           2       Banana    Fruit\n",
      "2           3       Orange    Fruit\n",
      "3           4         Pear   Veggie\n",
      "4           5       Grapes    Fruit\n",
      "\n",
      "Updated DataFrame:\n",
      "\n",
      "   Product_ID Product_Name Category\n",
      "0           1        Apple    Fruit\n",
      "1           2       Banana    Fruit\n",
      "2           3       Orange    Fruit\n",
      "3           4         Pear    Fruit\n",
      "4           5       Grapes    Fruit\n"
     ]
    }
   ],
   "source": [
    "df = pd.DataFrame({\n",
    "    'Product_ID': [1, 2, 3, 4, 5],\n",
    "    'Product_Name': ['Apple', 'Banana', 'Orange', 'Pear', 'Grapes'],\n",
    "    'Category': ['Fruit', 'Fruit', 'Fruit', 'Veggie', 'Fruit']\n",
    "})\n",
    "\n",
    "# Print the original DataFrame\n",
    "print(\"Original DataFrame:\")\n",
    "print(df)\n",
    "\n",
    "# Replace 'Veggie' with 'Fruit' in the 'Category' column\n",
    "# df['Category'] = df['Category'].replace('Veggie', 'Fruit') or\n",
    "df['Category'].replace(to_replace='Veggie', value='Fruit', inplace=True)\n",
    "\n",
    "# Print the updated DataFrame\n",
    "print(\"\\nUpdated DataFrame:\\n\")\n",
    "print(df)"
   ]
  },
  {
   "cell_type": "code",
   "execution_count": 47,
   "metadata": {},
   "outputs": [
    {
     "name": "stdout",
     "output_type": "stream",
     "text": [
      "3\n"
     ]
    }
   ],
   "source": [
    "df = pd.DataFrame({\n",
    "    'A': [1, 2, None, 4],\n",
    "    'B': [None, 6, 7, 8]\n",
    "})\n",
    "\n",
    "print(df['A'].count())"
   ]
  },
  {
   "cell_type": "markdown",
   "metadata": {},
   "source": [
    "exercise : You are analyzing a dataset containing information about employees in \n",
    "a company. However, the dataset is not entirely clean and has missing \n",
    "values in various columns due to data entry errors and incomplete \n",
    "records. Your task is to preprocess the data by handling missing values \n",
    "using Pandas' dropna() method."
   ]
  },
  {
   "cell_type": "code",
   "execution_count": 48,
   "metadata": {},
   "outputs": [
    {
     "data": {
      "text/html": [
       "<div>\n",
       "<style scoped>\n",
       "    .dataframe tbody tr th:only-of-type {\n",
       "        vertical-align: middle;\n",
       "    }\n",
       "\n",
       "    .dataframe tbody tr th {\n",
       "        vertical-align: top;\n",
       "    }\n",
       "\n",
       "    .dataframe thead th {\n",
       "        text-align: right;\n",
       "    }\n",
       "</style>\n",
       "<table border=\"1\" class=\"dataframe\">\n",
       "  <thead>\n",
       "    <tr style=\"text-align: right;\">\n",
       "      <th></th>\n",
       "      <th>Employee_ID</th>\n",
       "      <th>Name</th>\n",
       "      <th>Department</th>\n",
       "      <th>Salary</th>\n",
       "      <th>Years Experience</th>\n",
       "      <th>Address</th>\n",
       "      <th>Phone</th>\n",
       "    </tr>\n",
       "  </thead>\n",
       "  <tbody>\n",
       "    <tr>\n",
       "      <th>0</th>\n",
       "      <td>1</td>\n",
       "      <td>Alice</td>\n",
       "      <td>HR</td>\n",
       "      <td>50000.0</td>\n",
       "      <td>3.0</td>\n",
       "      <td>NaN</td>\n",
       "      <td>123456789</td>\n",
       "    </tr>\n",
       "    <tr>\n",
       "      <th>1</th>\n",
       "      <td>2</td>\n",
       "      <td>Bob</td>\n",
       "      <td>NaN</td>\n",
       "      <td>60000.0</td>\n",
       "      <td>5.0</td>\n",
       "      <td>123 Main St</td>\n",
       "      <td>987654321</td>\n",
       "    </tr>\n",
       "    <tr>\n",
       "      <th>2</th>\n",
       "      <td>3</td>\n",
       "      <td>Charlie</td>\n",
       "      <td>IT</td>\n",
       "      <td>NaN</td>\n",
       "      <td>2.0</td>\n",
       "      <td>456 Elm St</td>\n",
       "      <td>NaN</td>\n",
       "    </tr>\n",
       "    <tr>\n",
       "      <th>3</th>\n",
       "      <td>4</td>\n",
       "      <td>David</td>\n",
       "      <td>Sales</td>\n",
       "      <td>NaN</td>\n",
       "      <td>NaN</td>\n",
       "      <td>NaN</td>\n",
       "      <td>NaN</td>\n",
       "    </tr>\n",
       "    <tr>\n",
       "      <th>4</th>\n",
       "      <td>5</td>\n",
       "      <td>Eva</td>\n",
       "      <td>Finance</td>\n",
       "      <td>70000.0</td>\n",
       "      <td>4.0</td>\n",
       "      <td>NaN</td>\n",
       "      <td>555555555</td>\n",
       "    </tr>\n",
       "  </tbody>\n",
       "</table>\n",
       "</div>"
      ],
      "text/plain": [
       "   Employee_ID     Name Department   Salary  Years Experience      Address  \\\n",
       "0            1    Alice         HR  50000.0               3.0          NaN   \n",
       "1            2      Bob        NaN  60000.0               5.0  123 Main St   \n",
       "2            3  Charlie         IT      NaN               2.0   456 Elm St   \n",
       "3            4    David      Sales      NaN               NaN          NaN   \n",
       "4            5      Eva    Finance  70000.0               4.0          NaN   \n",
       "\n",
       "       Phone  \n",
       "0  123456789  \n",
       "1  987654321  \n",
       "2        NaN  \n",
       "3        NaN  \n",
       "4  555555555  "
      ]
     },
     "execution_count": 48,
     "metadata": {},
     "output_type": "execute_result"
    }
   ],
   "source": [
    "data = {\n",
    "    'Employee_ID': [1, 2, 3, 4, 5],\n",
    "    'Name': ['Alice', 'Bob', 'Charlie', 'David', 'Eva'], 'Department': ['HR', np.nan, 'IT', 'Sales', 'Finance'],\n",
    "    'Salary': [50000, 60000, np.nan, np.nan, 70000],\n",
    "    'Years Experience': [3, 5, 2, np.nan, 4],\n",
    "    'Address': [np.nan, '123 Main St', '456 Elm St', np.nan, np.nan],\n",
    "    'Phone': ['123456789', '987654321', np.nan, np.nan, '555555555']\n",
    "}\n",
    "df = pd.DataFrame(data)\n",
    "df"
   ]
  },
  {
   "cell_type": "code",
   "execution_count": 49,
   "metadata": {},
   "outputs": [
    {
     "data": {
      "text/html": [
       "<div>\n",
       "<style scoped>\n",
       "    .dataframe tbody tr th:only-of-type {\n",
       "        vertical-align: middle;\n",
       "    }\n",
       "\n",
       "    .dataframe tbody tr th {\n",
       "        vertical-align: top;\n",
       "    }\n",
       "\n",
       "    .dataframe thead th {\n",
       "        text-align: right;\n",
       "    }\n",
       "</style>\n",
       "<table border=\"1\" class=\"dataframe\">\n",
       "  <thead>\n",
       "    <tr style=\"text-align: right;\">\n",
       "      <th></th>\n",
       "      <th>Employee_ID</th>\n",
       "      <th>Name</th>\n",
       "      <th>Department</th>\n",
       "      <th>Salary</th>\n",
       "      <th>Years Experience</th>\n",
       "      <th>Address</th>\n",
       "      <th>Phone</th>\n",
       "    </tr>\n",
       "  </thead>\n",
       "  <tbody>\n",
       "  </tbody>\n",
       "</table>\n",
       "</div>"
      ],
      "text/plain": [
       "Empty DataFrame\n",
       "Columns: [Employee_ID, Name, Department, Salary, Years Experience, Address, Phone]\n",
       "Index: []"
      ]
     },
     "execution_count": 49,
     "metadata": {},
     "output_type": "execute_result"
    }
   ],
   "source": [
    "# To drop all rows with any missing values from the entire dataset, you can use the dropna() function in pandas\n",
    "df.dropna(inplace=True)\n",
    "df"
   ]
  },
  {
   "cell_type": "code",
   "execution_count": 50,
   "metadata": {},
   "outputs": [
    {
     "data": {
      "text/html": [
       "<div>\n",
       "<style scoped>\n",
       "    .dataframe tbody tr th:only-of-type {\n",
       "        vertical-align: middle;\n",
       "    }\n",
       "\n",
       "    .dataframe tbody tr th {\n",
       "        vertical-align: top;\n",
       "    }\n",
       "\n",
       "    .dataframe thead th {\n",
       "        text-align: right;\n",
       "    }\n",
       "</style>\n",
       "<table border=\"1\" class=\"dataframe\">\n",
       "  <thead>\n",
       "    <tr style=\"text-align: right;\">\n",
       "      <th></th>\n",
       "      <th>Employee_ID</th>\n",
       "      <th>Name</th>\n",
       "      <th>Department</th>\n",
       "      <th>Salary</th>\n",
       "      <th>Years Experience</th>\n",
       "      <th>Address</th>\n",
       "      <th>Phone</th>\n",
       "    </tr>\n",
       "  </thead>\n",
       "  <tbody>\n",
       "  </tbody>\n",
       "</table>\n",
       "</div>"
      ],
      "text/plain": [
       "Empty DataFrame\n",
       "Columns: [Employee_ID, Name, Department, Salary, Years Experience, Address, Phone]\n",
       "Index: []"
      ]
     },
     "execution_count": 50,
     "metadata": {},
     "output_type": "execute_result"
    }
   ],
   "source": [
    "# If the ‘Salary’ column is critical for analysis and you want to drop only the rows where ‘Salary’ values are missing, you can use the dropna() function with the subset parameter.\n",
    "df.dropna(subset=['Salary'], inplace=True)\n",
    "df"
   ]
  },
  {
   "cell_type": "code",
   "execution_count": 51,
   "metadata": {},
   "outputs": [
    {
     "data": {
      "text/html": [
       "<div>\n",
       "<style scoped>\n",
       "    .dataframe tbody tr th:only-of-type {\n",
       "        vertical-align: middle;\n",
       "    }\n",
       "\n",
       "    .dataframe tbody tr th {\n",
       "        vertical-align: top;\n",
       "    }\n",
       "\n",
       "    .dataframe thead th {\n",
       "        text-align: right;\n",
       "    }\n",
       "</style>\n",
       "<table border=\"1\" class=\"dataframe\">\n",
       "  <thead>\n",
       "    <tr style=\"text-align: right;\">\n",
       "      <th></th>\n",
       "    </tr>\n",
       "  </thead>\n",
       "  <tbody>\n",
       "  </tbody>\n",
       "</table>\n",
       "</div>"
      ],
      "text/plain": [
       "Empty DataFrame\n",
       "Columns: []\n",
       "Index: []"
      ]
     },
     "execution_count": 51,
     "metadata": {},
     "output_type": "execute_result"
    }
   ],
   "source": [
    "# If missing values are acceptable up to a certain limit in some columns, you can use the dropna() function with the thresh parameter. This will drop rows that have less than thresh non-NA values.\n",
    "df.dropna(thresh=3, inplace=True, axis=1)\n",
    "df"
   ]
  },
  {
   "cell_type": "code",
   "execution_count": 52,
   "metadata": {},
   "outputs": [
    {
     "ename": "KeyError",
     "evalue": "['Department']",
     "output_type": "error",
     "traceback": [
      "\u001b[0;31m---------------------------------------------------------------------------\u001b[0m",
      "\u001b[0;31mKeyError\u001b[0m                                  Traceback (most recent call last)",
      "Cell \u001b[0;32mIn [52], line 2\u001b[0m\n\u001b[1;32m      1\u001b[0m \u001b[38;5;66;03m# If you want to drop rows where ‘Department’ is missing while keeping rows with other missing values intact, you can use the dropna() function with the subset parameter.\u001b[39;00m\n\u001b[0;32m----> 2\u001b[0m \u001b[43mdf\u001b[49m\u001b[38;5;241;43m.\u001b[39;49m\u001b[43mdropna\u001b[49m\u001b[43m(\u001b[49m\u001b[43msubset\u001b[49m\u001b[38;5;241;43m=\u001b[39;49m\u001b[43m[\u001b[49m\u001b[38;5;124;43m'\u001b[39;49m\u001b[38;5;124;43mDepartment\u001b[39;49m\u001b[38;5;124;43m'\u001b[39;49m\u001b[43m]\u001b[49m\u001b[43m,\u001b[49m\u001b[43m \u001b[49m\u001b[43minplace\u001b[49m\u001b[38;5;241;43m=\u001b[39;49m\u001b[38;5;28;43;01mTrue\u001b[39;49;00m\u001b[43m)\u001b[49m\n\u001b[1;32m      3\u001b[0m df\n",
      "File \u001b[0;32m/usr/lib/python3/dist-packages/pandas/util/_decorators.py:331\u001b[0m, in \u001b[0;36mdeprecate_nonkeyword_arguments.<locals>.decorate.<locals>.wrapper\u001b[0;34m(*args, **kwargs)\u001b[0m\n\u001b[1;32m    325\u001b[0m \u001b[38;5;28;01mif\u001b[39;00m \u001b[38;5;28mlen\u001b[39m(args) \u001b[38;5;241m>\u001b[39m num_allow_args:\n\u001b[1;32m    326\u001b[0m     warnings\u001b[38;5;241m.\u001b[39mwarn(\n\u001b[1;32m    327\u001b[0m         msg\u001b[38;5;241m.\u001b[39mformat(arguments\u001b[38;5;241m=\u001b[39m_format_argument_list(allow_args)),\n\u001b[1;32m    328\u001b[0m         \u001b[38;5;167;01mFutureWarning\u001b[39;00m,\n\u001b[1;32m    329\u001b[0m         stacklevel\u001b[38;5;241m=\u001b[39mfind_stack_level(),\n\u001b[1;32m    330\u001b[0m     )\n\u001b[0;32m--> 331\u001b[0m \u001b[38;5;28;01mreturn\u001b[39;00m \u001b[43mfunc\u001b[49m\u001b[43m(\u001b[49m\u001b[38;5;241;43m*\u001b[39;49m\u001b[43margs\u001b[49m\u001b[43m,\u001b[49m\u001b[43m \u001b[49m\u001b[38;5;241;43m*\u001b[39;49m\u001b[38;5;241;43m*\u001b[39;49m\u001b[43mkwargs\u001b[49m\u001b[43m)\u001b[49m\n",
      "File \u001b[0;32m/usr/lib/python3/dist-packages/pandas/core/frame.py:6561\u001b[0m, in \u001b[0;36mDataFrame.dropna\u001b[0;34m(self, axis, how, thresh, subset, inplace)\u001b[0m\n\u001b[1;32m   6559\u001b[0m     check \u001b[38;5;241m=\u001b[39m indices \u001b[38;5;241m==\u001b[39m \u001b[38;5;241m-\u001b[39m\u001b[38;5;241m1\u001b[39m\n\u001b[1;32m   6560\u001b[0m     \u001b[38;5;28;01mif\u001b[39;00m check\u001b[38;5;241m.\u001b[39many():\n\u001b[0;32m-> 6561\u001b[0m         \u001b[38;5;28;01mraise\u001b[39;00m \u001b[38;5;167;01mKeyError\u001b[39;00m(np\u001b[38;5;241m.\u001b[39marray(subset)[check]\u001b[38;5;241m.\u001b[39mtolist())\n\u001b[1;32m   6562\u001b[0m     agg_obj \u001b[38;5;241m=\u001b[39m \u001b[38;5;28mself\u001b[39m\u001b[38;5;241m.\u001b[39mtake(indices, axis\u001b[38;5;241m=\u001b[39magg_axis)\n\u001b[1;32m   6564\u001b[0m \u001b[38;5;28;01mif\u001b[39;00m thresh \u001b[38;5;129;01mis\u001b[39;00m \u001b[38;5;129;01mnot\u001b[39;00m no_default:\n",
      "\u001b[0;31mKeyError\u001b[0m: ['Department']"
     ]
    }
   ],
   "source": [
    "# If you want to drop rows where ‘Department’ is missing while keeping rows with other missing values intact, you can use the dropna() function with the subset parameter.\n",
    "df.dropna(subset=['Department'], inplace=True)\n",
    "df"
   ]
  },
  {
   "cell_type": "code",
   "execution_count": null,
   "metadata": {},
   "outputs": [
    {
     "data": {
      "text/html": [
       "<div>\n",
       "<style scoped>\n",
       "    .dataframe tbody tr th:only-of-type {\n",
       "        vertical-align: middle;\n",
       "    }\n",
       "\n",
       "    .dataframe tbody tr th {\n",
       "        vertical-align: top;\n",
       "    }\n",
       "\n",
       "    .dataframe thead th {\n",
       "        text-align: right;\n",
       "    }\n",
       "</style>\n",
       "<table border=\"1\" class=\"dataframe\">\n",
       "  <thead>\n",
       "    <tr style=\"text-align: right;\">\n",
       "      <th></th>\n",
       "      <th>Employee_ID</th>\n",
       "      <th>Name</th>\n",
       "      <th>Department</th>\n",
       "      <th>Salary</th>\n",
       "      <th>Years Experience</th>\n",
       "    </tr>\n",
       "  </thead>\n",
       "  <tbody>\n",
       "    <tr>\n",
       "      <th>0</th>\n",
       "      <td>1</td>\n",
       "      <td>Alice</td>\n",
       "      <td>HR</td>\n",
       "      <td>50000.0</td>\n",
       "      <td>3.0</td>\n",
       "    </tr>\n",
       "    <tr>\n",
       "      <th>1</th>\n",
       "      <td>2</td>\n",
       "      <td>Bob</td>\n",
       "      <td>NaN</td>\n",
       "      <td>60000.0</td>\n",
       "      <td>5.0</td>\n",
       "    </tr>\n",
       "    <tr>\n",
       "      <th>2</th>\n",
       "      <td>3</td>\n",
       "      <td>Charlie</td>\n",
       "      <td>IT</td>\n",
       "      <td>NaN</td>\n",
       "      <td>2.0</td>\n",
       "    </tr>\n",
       "    <tr>\n",
       "      <th>3</th>\n",
       "      <td>4</td>\n",
       "      <td>David</td>\n",
       "      <td>Sales</td>\n",
       "      <td>NaN</td>\n",
       "      <td>NaN</td>\n",
       "    </tr>\n",
       "    <tr>\n",
       "      <th>4</th>\n",
       "      <td>5</td>\n",
       "      <td>Eva</td>\n",
       "      <td>Finance</td>\n",
       "      <td>70000.0</td>\n",
       "      <td>4.0</td>\n",
       "    </tr>\n",
       "  </tbody>\n",
       "</table>\n",
       "</div>"
      ],
      "text/plain": [
       "   Employee_ID     Name Department   Salary  Years Experience\n",
       "0            1    Alice         HR  50000.0               3.0\n",
       "1            2      Bob        NaN  60000.0               5.0\n",
       "2            3  Charlie         IT      NaN               2.0\n",
       "3            4    David      Sales      NaN               NaN\n",
       "4            5      Eva    Finance  70000.0               4.0"
      ]
     },
     "execution_count": 216,
     "metadata": {},
     "output_type": "execute_result"
    }
   ],
   "source": [
    "# If the ‘Address’ and ‘Phone’ columns have a significant number of missing values and you want to drop these columns entirely from the dataset, you can use the drop() function in pandas.\n",
    "df.drop(['Address', 'Phone'], axis=1, inplace=True)\n",
    "df"
   ]
  },
  {
   "cell_type": "code",
   "execution_count": null,
   "metadata": {},
   "outputs": [
    {
     "data": {
      "text/html": [
       "<div>\n",
       "<style scoped>\n",
       "    .dataframe tbody tr th:only-of-type {\n",
       "        vertical-align: middle;\n",
       "    }\n",
       "\n",
       "    .dataframe tbody tr th {\n",
       "        vertical-align: top;\n",
       "    }\n",
       "\n",
       "    .dataframe thead th {\n",
       "        text-align: right;\n",
       "    }\n",
       "</style>\n",
       "<table border=\"1\" class=\"dataframe\">\n",
       "  <thead>\n",
       "    <tr style=\"text-align: right;\">\n",
       "      <th></th>\n",
       "      <th>Employee_ID</th>\n",
       "      <th>Name</th>\n",
       "      <th>Department</th>\n",
       "      <th>Salary</th>\n",
       "      <th>Years Experience</th>\n",
       "      <th>Address</th>\n",
       "      <th>Phone</th>\n",
       "    </tr>\n",
       "  </thead>\n",
       "  <tbody>\n",
       "    <tr>\n",
       "      <th>0</th>\n",
       "      <td>1</td>\n",
       "      <td>Alice</td>\n",
       "      <td>HR</td>\n",
       "      <td>50000.0</td>\n",
       "      <td>3.0</td>\n",
       "      <td>NaN</td>\n",
       "      <td>123456789</td>\n",
       "    </tr>\n",
       "    <tr>\n",
       "      <th>1</th>\n",
       "      <td>2</td>\n",
       "      <td>Bob</td>\n",
       "      <td>NaN</td>\n",
       "      <td>60000.0</td>\n",
       "      <td>5.0</td>\n",
       "      <td>123 Main St</td>\n",
       "      <td>987654321</td>\n",
       "    </tr>\n",
       "    <tr>\n",
       "      <th>2</th>\n",
       "      <td>3</td>\n",
       "      <td>Charlie</td>\n",
       "      <td>IT</td>\n",
       "      <td>NaN</td>\n",
       "      <td>2.0</td>\n",
       "      <td>456 Elm St</td>\n",
       "      <td>NaN</td>\n",
       "    </tr>\n",
       "    <tr>\n",
       "      <th>4</th>\n",
       "      <td>5</td>\n",
       "      <td>Eva</td>\n",
       "      <td>Finance</td>\n",
       "      <td>70000.0</td>\n",
       "      <td>4.0</td>\n",
       "      <td>NaN</td>\n",
       "      <td>555555555</td>\n",
       "    </tr>\n",
       "  </tbody>\n",
       "</table>\n",
       "</div>"
      ],
      "text/plain": [
       "   Employee_ID     Name Department   Salary  Years Experience      Address  \\\n",
       "0            1    Alice         HR  50000.0               3.0          NaN   \n",
       "1            2      Bob        NaN  60000.0               5.0  123 Main St   \n",
       "2            3  Charlie         IT      NaN               2.0   456 Elm St   \n",
       "4            5      Eva    Finance  70000.0               4.0          NaN   \n",
       "\n",
       "       Phone  \n",
       "0  123456789  \n",
       "1  987654321  \n",
       "2        NaN  \n",
       "4  555555555  "
      ]
     },
     "execution_count": 261,
     "metadata": {},
     "output_type": "execute_result"
    }
   ],
   "source": [
    "# If you want to drop rows where ‘Years of Experience’ are missing and ‘Salary’ is also missing or zero, you can use a combination of boolean indexing and the dropna() function.\n",
    "\n",
    "# df.drop(df[(df['Years Experience'].isnull()) & (df['Salary'].isnull())].index, inplace=True)\n",
    "\n",
    "# or\n",
    "df.dropna(subset=['Years Experience', 'Salary'], how='all', inplace=True)\n",
    "df"
   ]
  },
  {
   "cell_type": "markdown",
   "metadata": {},
   "source": [
    "Consider a DataFrame representing student information with columns for \"Name,\" \"Age,\" \"Grade,\" and \"Attendance.\" However, due to various reasons, there are missing values in the \"Age,\" \"Grade,\" and \"Attendance\" columns:\n",
    "\n",
    "1.Create dataframe\n",
    "2.Print the original DataFrame.\n",
    "3.Explore the DataFrame to identify the missing \n",
    "values.\n",
    "4.Decide on an appropriate strategy for handling \n",
    "missing values in each column (e.g., mean \n",
    "imputation, forward fill, etc.).\n",
    "5.Implement your chosen strategy to fill missing \n",
    "values in the DataFrame.\n",
    "6.Print the DataFrame after filling missing \n",
    "values."
   ]
  },
  {
   "cell_type": "code",
   "execution_count": null,
   "metadata": {},
   "outputs": [
    {
     "name": "stdout",
     "output_type": "stream",
     "text": [
      "Original DataFrame:\n",
      "      Name   Age  Grade Attendance\n",
      "0    Alice  20.0   80.0    Present\n",
      "1      Bob   NaN    NaN     Absent\n",
      "2  Charlie  22.0    NaN        NaN\n",
      "3    David   NaN   95.0    Present\n",
      "4      Eva  25.0   88.0        NaN\n"
     ]
    },
    {
     "data": {
      "text/html": [
       "<div>\n",
       "<style scoped>\n",
       "    .dataframe tbody tr th:only-of-type {\n",
       "        vertical-align: middle;\n",
       "    }\n",
       "\n",
       "    .dataframe tbody tr th {\n",
       "        vertical-align: top;\n",
       "    }\n",
       "\n",
       "    .dataframe thead th {\n",
       "        text-align: right;\n",
       "    }\n",
       "</style>\n",
       "<table border=\"1\" class=\"dataframe\">\n",
       "  <thead>\n",
       "    <tr style=\"text-align: right;\">\n",
       "      <th></th>\n",
       "      <th>Name</th>\n",
       "      <th>Age</th>\n",
       "      <th>Grade</th>\n",
       "      <th>Attendance</th>\n",
       "    </tr>\n",
       "  </thead>\n",
       "  <tbody>\n",
       "    <tr>\n",
       "      <th>0</th>\n",
       "      <td>Alice</td>\n",
       "      <td>20.000000</td>\n",
       "      <td>80.000000</td>\n",
       "      <td>Present</td>\n",
       "    </tr>\n",
       "    <tr>\n",
       "      <th>1</th>\n",
       "      <td>Bob</td>\n",
       "      <td>22.333333</td>\n",
       "      <td>87.666667</td>\n",
       "      <td>Absent</td>\n",
       "    </tr>\n",
       "    <tr>\n",
       "      <th>2</th>\n",
       "      <td>Charlie</td>\n",
       "      <td>22.000000</td>\n",
       "      <td>87.666667</td>\n",
       "      <td>Absent</td>\n",
       "    </tr>\n",
       "    <tr>\n",
       "      <th>3</th>\n",
       "      <td>David</td>\n",
       "      <td>22.333333</td>\n",
       "      <td>95.000000</td>\n",
       "      <td>Present</td>\n",
       "    </tr>\n",
       "    <tr>\n",
       "      <th>4</th>\n",
       "      <td>Eva</td>\n",
       "      <td>25.000000</td>\n",
       "      <td>88.000000</td>\n",
       "      <td>Present</td>\n",
       "    </tr>\n",
       "  </tbody>\n",
       "</table>\n",
       "</div>"
      ],
      "text/plain": [
       "      Name        Age      Grade Attendance\n",
       "0    Alice  20.000000  80.000000    Present\n",
       "1      Bob  22.333333  87.666667     Absent\n",
       "2  Charlie  22.000000  87.666667     Absent\n",
       "3    David  22.333333  95.000000    Present\n",
       "4      Eva  25.000000  88.000000    Present"
      ]
     },
     "execution_count": 269,
     "metadata": {},
     "output_type": "execute_result"
    }
   ],
   "source": [
    "df = pd.DataFrame({\n",
    "    'Name': ['Alice', 'Bob', 'Charlie', 'David', 'Eva'],\n",
    "    'Age': [20, np.nan, 22, np.nan, 25],\n",
    "    'Grade': [80, np.nan, np.nan, 95, 88],\n",
    "    'Attendance': ['Present', 'Absent', np.nan, 'Present', np.nan]\n",
    "})\n",
    "\n",
    "# 2. Print the original DataFrame[^6^][6]\n",
    "print(\"Original DataFrame:\")\n",
    "print(df)\n",
    "\n",
    "# # 3. Identify the missing values\n",
    "# print(\"\\nMissing values:\")\n",
    "# print(df.isnull())\n",
    "\n",
    "# 4. Decide on an appropriate strategy for handling missing values in each column\n",
    "# For 'Age' and 'Grade', we will use mean imputation\n",
    "# df['Age'].fillna(df['Age'].mean(), inplace=True)\n",
    "# df['Grade'].fillna(df['Grade'].mean(), inplace=True)\n",
    "\n",
    "# For 'Attendance', we will use forward fill\n",
    "# df['Attendance'].fillna(method='ffill', inplace=True)\n",
    "# df\n",
    "\n",
    "# Mean Imputation for ‘Age’ and ‘Grade’: The mean is a measure of central tendency that calculates the average of all values in a column. It’s often used for imputing missing values in columns with numerical data. If the ‘Age’ and ‘Grade’ data are normally distributed without many outliers, using the mean for imputation can be a good choice as it doesn’t drastically affect the overall distribution of the data.\n",
    "# Forward Fill for ‘Attendance’: The forward fill method propagates the last observed non-null value forward until another non-null value is met. This method is suitable for data where observations have a logical order (like time-series data) or when the data doesn’t change rapidly. In the case of ‘Attendance’, if the attendance status of a student is missing, it’s reasonable to assume it’s the same as the last recorded attendance status, hence the use of forward fill.\n",
    "\n",
    "# 5. Implement the chosen strategy to fill missing values in the DataFrame\n",
    "df['Age'].fillna(df['Age'].mean(), inplace=True)\n",
    "df['Grade'].fillna(df['Grade'].mean(), inplace=True)\n",
    "df['Attendance'].fillna(method='ffill', inplace=True)\n",
    "df\n",
    "\n",
    "# # 6. Print the DataFrame after filling missing values\n",
    "# print(\"\\nDataFrame after filling missing values:\")\n",
    "# print(df)"
   ]
  },
  {
   "cell_type": "markdown",
   "metadata": {},
   "source": [
    "Consider a DataFrame representing sales data for a company. The DataFrame contains columns for \"Product\", \"Quantity Sold\", \n",
    "\"Price\", and \"Date\". However, due to some issues, there are missing values in the \"Quantity Sold\" and \"Price\" columns. \n",
    "\n",
    "1.Create the dataframe as given\n",
    "2.Print the original DataFrame.\n",
    "3.Fill the missing values in the \"Quantity \n",
    "Sold\" column with the mean value of that \n",
    "column.\n",
    "4.Fill the missing values in the \"Price\" \n",
    "column with the median value of that \n",
    "column.\n",
    "5.Print the DataFrame after filling the \n",
    "missing values."
   ]
  },
  {
   "cell_type": "code",
   "execution_count": null,
   "metadata": {},
   "outputs": [
    {
     "name": "stdout",
     "output_type": "stream",
     "text": [
      "Original DataFrame:\n",
      "  Product  Quantity Sold  Price       Date\n",
      "0       A          100.0   20.0 2023-01-01\n",
      "1       B            NaN   25.0 2023-01-02\n",
      "2       C           50.0    NaN 2023-01-03\n",
      "3       D            NaN    NaN 2023-01-04\n",
      "4       E           80.0   30.0 2023-01-05\n",
      "\n",
      "DataFrame after filling missing values:\n",
      "  Product  Quantity Sold  Price       Date\n",
      "0       A     100.000000   20.0 2023-01-01\n",
      "1       B      76.666667   25.0 2023-01-02\n",
      "2       C      50.000000   25.0 2023-01-03\n",
      "3       D      76.666667   25.0 2023-01-04\n",
      "4       E      80.000000   30.0 2023-01-05\n"
     ]
    }
   ],
   "source": [
    "# 1. Create the DataFrame\n",
    "df = pd.DataFrame({\n",
    "    'Product': ['A', 'B', 'C', 'D', 'E'],\n",
    "    'Quantity Sold': [100, np.nan, 50, np.nan, 80],\n",
    "    'Price': [20, 25, np.nan, np.nan, 30],\n",
    "    'Date': pd.date_range(start='2023-01-01', periods=5)\n",
    "})\n",
    "\n",
    "# 2. Print the original DataFrame[^7^][7]\n",
    "print(\"Original DataFrame:\")\n",
    "print(df)\n",
    "\n",
    "# Mean Imputation for ‘Quantity Sold’: The mean is a measure of central tendency that calculates the average of all values in a column. It’s often used for imputing missing values in columns with numerical data. If the ‘Quantity Sold’ data is normally distributed without many outliers, using the mean for imputation can be a good choice as it doesn’t drastically affect the overall distribution of the data.\n",
    "# Median Imputation for ‘Price’: The median is another measure of central tendency that represents the middle value in a sorted list of numbers. Median imputation is particularly useful when the data contains outliers, as the median is not affected by extreme values. If the ‘Price’ data has outliers (i.e., some products are significantly more expensive than others), using the median for imputation can be a more accurate choice than the mean.\n",
    "\n",
    "# 3. Fill the missing values in the \"Quantity Sold\" column with the mean value of that column[^8^][8]\n",
    "df['Quantity Sold'].fillna(df['Quantity Sold'].mean(), inplace=True)\n",
    "\n",
    "# 4. Fill the missing values in the \"Price\" column with the median value of that column\n",
    "df['Price'].fillna(df['Price'].median(), inplace=True)\n",
    "\n",
    "# 5. Print the DataFrame after filling the missing values[^9^][9]\n",
    "print(\"\\nDataFrame after filling missing values:\")\n",
    "print(df)"
   ]
  },
  {
   "cell_type": "code",
   "execution_count": null,
   "metadata": {},
   "outputs": [
    {
     "name": "stdout",
     "output_type": "stream",
     "text": [
      "Categorized data with right-closed bins:\n",
      "[(118, 125], (118, 125], (118, 125], (125, 135], (118, 125], ..., (125, 135], (160, 200], (135, 160], (135, 160], (125, 135]]\n",
      "Length: 12\n",
      "Categories (4, interval[int64, right]): [(118, 125] < (125, 135] < (135, 160] < (160, 200]]\n",
      "\n",
      "Categorized data with left-closed bins:\n",
      "[[118, 125), [118, 125), [125, 135), [125, 135), [118, 125), ..., [125, 135), [160, 200), [135, 160), [135, 160), [125, 135)]\n",
      "Length: 12\n",
      "Categories (4, interval[int64, left]): [[118, 125) < [125, 135) < [135, 160) < [160, 200)]\n",
      "\n",
      "Categorized data with bin names:\n",
      "['Short Height', 'Short Height', 'Short Height', 'Average height', 'Short Height', ..., 'Average height', 'Taller', 'Good Height', 'Good Height', 'Average height']\n",
      "Length: 12\n",
      "Categories (4, object): ['Short Height' < 'Average height' < 'Good Height' < 'Taller']\n",
      "\n",
      "Number of data points in each bin:\n",
      "Short Height      5\n",
      "Average height    3\n",
      "Good Height       3\n",
      "Taller            1\n",
      "dtype: int64\n"
     ]
    }
   ],
   "source": [
    "import pandas as pd\n",
    "\n",
    "# Define the bins\n",
    "bins = [118, 125, 135, 160, 200]\n",
    "\n",
    "# Define the data\n",
    "height = [120, 122, 125, 127, 121, 123, 137, 131, 161, 145, 141, 132]\n",
    "\n",
    "# Use pd.cut to categorize the data based on the bins\n",
    "category = pd.cut(height, bins)\n",
    "\n",
    "# Print the categorized data with right-closed bins\n",
    "print(\"Categorized data with right-closed bins:\")\n",
    "print(category)\n",
    "\n",
    "# Use pd.cut with right=False to categorize the data based on the bins with left-closed bins\n",
    "category2 = pd.cut(height, bins, right=False)\n",
    "\n",
    "# Print the categorized data with left-closed bins\n",
    "print(\"\\nCategorized data with left-closed bins:\")\n",
    "print(category2)\n",
    "\n",
    "# Define the bin names\n",
    "bin_names = ['Short Height', 'Average height', 'Good Height', \"Taller\"]\n",
    "\n",
    "# Use pd.cut with labels=bin_names to categorize the data based on the bins and replace the bin ranges with the bin names\n",
    "category = pd.cut(height, bins, labels=bin_names)\n",
    "\n",
    "# Print the categorized data with bin names\n",
    "print(\"\\nCategorized data with bin names:\")\n",
    "print(category)\n",
    "\n",
    "# Use pd.value_counts to count the number of data points in each bin\n",
    "print(\"\\nNumber of data points in each bin:\")\n",
    "print(pd.value_counts(category))"
   ]
  },
  {
   "cell_type": "markdown",
   "metadata": {},
   "source": [
    "Suppose you have a DataFrame with a column of ages and you want to discretize these ages into different age groups. Assign suitable labels for each bin"
   ]
  },
  {
   "cell_type": "code",
   "execution_count": null,
   "metadata": {},
   "outputs": [
    {
     "name": "stdout",
     "output_type": "stream",
     "text": [
      "      Name  Age Age_Group\n",
      "0    Alice   25     19-30\n",
      "1      Bob   42     41-60\n",
      "2  Charlie   31     31-40\n",
      "3    David   19     19-30\n",
      "4      Eva   50     41-60\n"
     ]
    }
   ],
   "source": [
    "import pandas as pd\n",
    "\n",
    "# Sample DataFrame\n",
    "data = {\n",
    "    'Name': ['Alice', 'Bob', 'Charlie', 'David', 'Eva'],\n",
    "    'Age': [25, 42, 31, 19, 50]\n",
    "}\n",
    "df = pd.DataFrame(data)\n",
    "\n",
    "# Define bins for different age groups\n",
    "bins = [0, 18, 30, 40, 60]\n",
    "\n",
    "# Age groups: 0-18, 19-30, 31-40, 41-60\n",
    "# Define labels for the bins\n",
    "labels = ['0-18', '19-30', '31-40', '41-60']\n",
    "\n",
    "# Discretize the 'Age' column into bins using cut() function\n",
    "df['Age_Group'] = pd.cut(df['Age'], bins=bins, labels=labels)\n",
    "print(df)"
   ]
  },
  {
   "cell_type": "code",
   "execution_count": null,
   "metadata": {},
   "outputs": [
    {
     "data": {
      "text/plain": [
       "[(0.21, 0.41], (0.21, 0.41], (0.61, 0.8], (0.8, 1.0], (0.21, 0.41], ..., (0.61, 0.8], (0.61, 0.8], (0.41, 0.61], (0.41, 0.61], (0.41, 0.61]]\n",
       "Length: 40\n",
       "Categories (5, interval[float64, right]): [(0.015, 0.21] < (0.21, 0.41] < (0.41, 0.61] < (0.61, 0.8] < (0.8, 1.0]]"
      ]
     },
     "execution_count": 275,
     "metadata": {},
     "output_type": "execute_result"
    }
   ],
   "source": [
    "# Compute equal-length bins based on the minimum and maximum values in the data.\n",
    "import numpy as np\n",
    "\n",
    "pd.cut(np.random.rand(40), 5, precision=2)"
   ]
  },
  {
   "cell_type": "code",
   "execution_count": null,
   "metadata": {},
   "outputs": [
    {
     "name": "stdout",
     "output_type": "stream",
     "text": [
      "[(0.502, 0.744], (0.502, 0.744], (0.0017499999999999998, 0.263], (0.0017499999999999998, 0.263], (0.0017499999999999998, 0.263], ..., (0.0017499999999999998, 0.263], (0.744, 0.999], (0.502, 0.744], (0.502, 0.744], (0.502, 0.744]]\n",
      "Length: 2000\n",
      "Categories (4, interval[float64, right]): [(0.0017499999999999998, 0.263] < (0.263, 0.502] < (0.502, 0.744] < (0.744, 0.999]]\n"
     ]
    }
   ],
   "source": [
    "import numpy as np\n",
    "import pandas as pd\n",
    "\n",
    "# Generate 2000 random numbers between 0 and 1\n",
    "randomNumbers = np.random.rand(2000)\n",
    "\n",
    "# Discretize the random numbers into quartiles\n",
    "category3 = pd.qcut(randomNumbers, 4)\n",
    "\n",
    "# Print the quartiles\n",
    "print(category3)"
   ]
  },
  {
   "cell_type": "code",
   "execution_count": null,
   "metadata": {},
   "outputs": [],
   "source": [
    "# Importing necessary libraries\n",
    "import numpy as np\n",
    "import pandas as pd\n",
    "\n",
    "# Creating a numpy array of numbers from 0 to 79\n",
    "dat = np.arange(80).reshape(10, 8)\n",
    "\n",
    "# Converting the numpy array to a pandas DataFrame\n",
    "df = pd.DataFrame(dat)\n",
    "\n",
    "# Generating a random permutation of integers from 0 to 9\n",
    "sampler = np.random.permutation(10)\n",
    "\n",
    "# Taking a random sample of 3 rows from the DataFrame\n",
    "sampled_rows = df.take(np.random.permutation(len(df))[:3])\n",
    "\n",
    "# Creating a numpy array with specific values\n",
    "sack = np.array([4, 8, -2, 7, 5])\n",
    "\n",
    "# Generating 10 random integers in the range of the length of 'sack'\n",
    "sampler = np.random.randint(0, len(sack), size=10)\n",
    "\n",
    "# Using the random integers as indices to take elements from 'sack'\n",
    "draw = sack.take(sampler)"
   ]
  },
  {
   "cell_type": "code",
   "execution_count": null,
   "metadata": {},
   "outputs": [],
   "source": [
    "import pandas as pd\n",
    "\n",
    "# Creating a sample DataFrame\n",
    "data = {\n",
    "    'Student_ID': range(1, 21),\n",
    "    'Test_Score': [82, 85, 88, 90, 85, 95, 78, 85, 100, 92, 85, 87, 80, 98, 85, 82, 85, 87, 88, 91]\n",
    "}\n",
    "df = pd.DataFrame(data)\n",
    "\n",
    "# Performing random sampling to select 5 students randomly\n",
    "sampled_data = df.sample(n=5, random_state=42)\n",
    "\n",
    "# Specifying random_state for reproducibility\n",
    "print(\"Randomly Sampled Data:\")\n",
    "print(sampled_data)"
   ]
  },
  {
   "cell_type": "code",
   "execution_count": null,
   "metadata": {},
   "outputs": [
    {
     "name": "stdout",
     "output_type": "stream",
     "text": [
      "Original DataFrame:\n",
      "   A  B\n",
      "0  1  a\n",
      "1  2  b\n",
      "2  3  c\n",
      "3  4  d\n",
      "4  5  e\n",
      "\n",
      "\n",
      "Sampled 2 random rows:\n",
      "   A  B\n",
      "3  4  d\n",
      "4  5  e\n",
      "\n",
      "Sampled 30% of the rows:\n",
      "   A  B\n",
      "1  2  b\n",
      "2  3  c\n",
      "\n",
      "Sampled with replacement:\n",
      "   A  B\n",
      "0  1  a\n",
      "3  4  d\n",
      "0  1  a\n",
      "0  1  a\n",
      "0  1  a\n"
     ]
    }
   ],
   "source": [
    "import pandas as pd\n",
    "# Creating a sample DataFrame\n",
    "data = {\n",
    "    'A': [1, 2, 3, 4, 5],\n",
    "    'B': ['a', 'b', 'c', 'd', 'e']\n",
    "}\n",
    "df = pd.DataFrame(data)\n",
    "print(\"Original DataFrame:\")\n",
    "print(df)\n",
    "\n",
    "print(\"\\n\")\n",
    "# Example 1: Sample 2 random rows\n",
    "sampled_rows = df.sample(n=2)\n",
    "print(\"Sampled 2 random rows:\")\n",
    "print(sampled_rows)\n",
    "\n",
    "# Example 2: Sample 30% of the rows\n",
    "sampled_frac = df.sample(frac=0.3)\n",
    "print(\"\\nSampled 30% of the rows:\")\n",
    "print(sampled_frac)\n",
    "\n",
    "# Example 3: Sample with replacement\n",
    "sampled_with_replace = df.sample(n=5, replace=True)\n",
    "print(\"\\nSampled with replacement:\")\n",
    "print(sampled_with_replace)"
   ]
  },
  {
   "cell_type": "code",
   "execution_count": null,
   "metadata": {},
   "outputs": [
    {
     "name": "stdout",
     "output_type": "stream",
     "text": [
      "    Customer_ID  Age Gender  Purchase_Amount\n",
      "54           55   65      M               48\n",
      "55           56   63      F              382\n",
      "97           98   18      F              230\n",
      "6             7   43      M              486\n",
      "67           68   68      F              175\n",
      "66           67   18      M              250\n",
      "51           52   29      F               76\n",
      "32           33   66      M              381\n",
      "33           34   50      F              423\n",
      "68           69   51      M              251\n",
      "58           59   29      M              197\n",
      "92           93   50      M               13\n",
      "40           41   64      M              463\n",
      "28           29   60      M              406\n",
      "34           35   43      M              126\n",
      "10           11   69      M              112\n",
      "81           82   65      F               19\n",
      "11           12   23      F              463\n",
      "20           21   56      M              117\n",
      "22           23   23      M              398\n"
     ]
    }
   ],
   "source": [
    "import pandas as pd\n",
    "import numpy as np\n",
    "\n",
    "# Create a DataFrame\n",
    "data = {\n",
    "    'Customer_ID': range(1, 101),  # Customer IDs from 1 to 100\n",
    "    'Age': np.random.randint(18, 70, size=100),  # Random ages\n",
    "    'Gender': ['M', 'F'] * 50,  # Alternating 'M' and 'F'\n",
    "    # Random purchase amounts\n",
    "    'Purchase_Amount': np.random.randint(1, 500, size=100)\n",
    "}\n",
    "\n",
    "df = pd.DataFrame(data)\n",
    "\n",
    "# Perform random sampling to select 20 customers\n",
    "sampled_df = df.sample(n=20)\n",
    "\n",
    "print(sampled_df)"
   ]
  },
  {
   "cell_type": "code",
   "execution_count": null,
   "metadata": {},
   "outputs": [
    {
     "name": "stdout",
     "output_type": "stream",
     "text": [
      "\n",
      "original:\n",
      "   Customer_ID  Age Gender  Purchase_Amount\n",
      "0            1   25      M              100\n",
      "1            2   32      F              120\n",
      "2            3   45      M              150\n",
      "3            4   23      M              200\n",
      "4            5   35      F              210\n",
      "5            6   65      F               75\n",
      "6            7   37      M               90\n",
      "7            8   29      F              175\n",
      "8            9   42      M              180\n",
      "9           10   59      F              205\n",
      "\n",
      "stacked:\n",
      "0  Customer_ID          1\n",
      "   Age                 25\n",
      "   Gender               M\n",
      "   Purchase_Amount    100\n",
      "1  Customer_ID          2\n",
      "   Age                 32\n",
      "   Gender               F\n",
      "   Purchase_Amount    120\n",
      "2  Customer_ID          3\n",
      "   Age                 45\n",
      "   Gender               M\n",
      "   Purchase_Amount    150\n",
      "3  Customer_ID          4\n",
      "   Age                 23\n",
      "   Gender               M\n",
      "   Purchase_Amount    200\n",
      "4  Customer_ID          5\n",
      "   Age                 35\n",
      "   Gender               F\n",
      "   Purchase_Amount    210\n",
      "5  Customer_ID          6\n",
      "   Age                 65\n",
      "   Gender               F\n",
      "   Purchase_Amount     75\n",
      "6  Customer_ID          7\n",
      "   Age                 37\n",
      "   Gender               M\n",
      "   Purchase_Amount     90\n",
      "7  Customer_ID          8\n",
      "   Age                 29\n",
      "   Gender               F\n",
      "   Purchase_Amount    175\n",
      "8  Customer_ID          9\n",
      "   Age                 42\n",
      "   Gender               M\n",
      "   Purchase_Amount    180\n",
      "9  Customer_ID         10\n",
      "   Age                 59\n",
      "   Gender               F\n",
      "   Purchase_Amount    205\n",
      "dtype: object\n",
      "\n",
      "unstacked:\n",
      "  Customer_ID Age Gender Purchase_Amount\n",
      "0           1  25      M             100\n",
      "1           2  32      F             120\n",
      "2           3  45      M             150\n",
      "3           4  23      M             200\n",
      "4           5  35      F             210\n",
      "5           6  65      F              75\n",
      "6           7  37      M              90\n",
      "7           8  29      F             175\n",
      "8           9  42      M             180\n",
      "9          10  59      F             205\n"
     ]
    }
   ],
   "source": [
    "import pandas as pd\n",
    "import numpy as np\n",
    "\n",
    "# Create a DataFrame\n",
    "data = {\n",
    "    'Customer_ID': [1, 2, 3, 4, 5, 6, 7, 8, 9, 10],\n",
    "    'Age': [25, 32, 45, 23, 35, 65, 37, 29, 42, 59],\n",
    "    'Gender': ['M', 'F', 'M', 'M', 'F', 'F', 'M', 'F', 'M', 'F'],\n",
    "    'Purchase_Amount': [100, 120, 150, 200, 210, 75, 90, 175, 180, 205]\n",
    "}\n",
    "\n",
    "df = pd.DataFrame(data)\n",
    "print(\"\\noriginal:\")\n",
    "print(df)\n",
    "\n",
    "stacked = df.stack()\n",
    "print(\"\\nstacked:\")\n",
    "print(stacked)\n",
    "\n",
    "unstacked = stacked.unstack()\n",
    "print(\"\\nunstacked:\")\n",
    "print(unstacked)"
   ]
  }
 ],
 "metadata": {
  "kernelspec": {
   "display_name": "Python 3",
   "language": "python",
   "name": "python3"
  },
  "language_info": {
   "codemirror_mode": {
    "name": "ipython",
    "version": 3
   },
   "file_extension": ".py",
   "mimetype": "text/x-python",
   "name": "python",
   "nbconvert_exporter": "python",
   "pygments_lexer": "ipython3",
   "version": "3.11.2"
  }
 },
 "nbformat": 4,
 "nbformat_minor": 2
}
